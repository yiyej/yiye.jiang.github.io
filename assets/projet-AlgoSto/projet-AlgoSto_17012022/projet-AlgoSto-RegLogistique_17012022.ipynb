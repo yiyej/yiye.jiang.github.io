{
 "cells": [
  {
   "cell_type": "markdown",
   "metadata": {},
   "source": [
    "<center>\n",
    "<a href=\"http://uf-mi.u-bordeaux.fr/MSS/\" ><img src=\"https://www.math.u-bordeaux.fr/~jbigot/Site/Enseignement_files/logo_MAS_MSS.jpg\" style=\"float:left; max-width: 400px; display: inline\" alt=\"INSA\"/></a> \n",
    "\n",
    "<a href=\"https://www.math.u-bordeaux.fr/\" ><img src=\"https://www.math.u-bordeaux.fr/~jbigot/Site/Enseignement_files/LogoIMB.jpg\" style=\"float:right; max-width: 250px; display: inline\" alt=\"IMT\"/> </a>\n",
    "</center>"
   ]
  },
  {
   "cell_type": "markdown",
   "metadata": {},
   "source": [
    "# <a href=\"https://www.python.org/\"><img src=\"https://upload.wikimedia.org/wikipedia/commons/thumb/f/f8/Python_logo_and_wordmark.svg/390px-Python_logo_and_wordmark.svg.png\" style=\"max-width: 200px; display: inline\" alt=\"Python\"/></a> UE M2 Master MAS-MSS et CIMI ISI Projet Données Massives"
   ]
  },
  {
   "cell_type": "markdown",
   "metadata": {},
   "source": [
    "# Algorithmes stochastiques pour la régression logistique avec <a href=\"https://www.python.org/\"><img src=\"https://upload.wikimedia.org/wikipedia/commons/thumb/f/f8/Python_logo_and_wordmark.svg/390px-Python_logo_and_wordmark.svg.png\" style=\"max-width: 150px; display: inline\" alt=\"Python\"/></a> & <a href=\"http://scikit-learn.org/stable/#\"><img src=\"http://scikit-learn.org/stable/_static/scikit-learn-logo-small.png\" style=\"max-width: 180px; display: inline\" alt=\"Scikit-Learn\"/></a>\n",
    "**Résumé**: \n",
    "\n",
    "Dans ce projet, vous devrez implémenter de trois algorithmes stochastiques pour la résolution d'un problème de régression logistique dans le cardre de classification supervisée binaire (à $K=2$ classes): \n",
    "- un algorithme de descente de gradient stochastique usuel tel que vous l'avez vu en cours\n",
    "- l'algorithme ADAM : https://arxiv.org/pdf/1412.6980.pdf\n",
    "- l'algorithme de Newton stochastique : https://arxiv.org/abs/1904.07908\n",
    "\n",
    "Pour évaluer ces algorithmes, vous devrez les appliquer à trois problèmes de classification binaire différents:\n",
    "- Des données 2D simulées\n",
    "- La classification des images MNIST de taille 28 * 28 ( *liste de tâches à donner le 17 Janvier*)\n",
    "- La prédiction de présence d'éoliennes dans des images de taille 128 * 128 * 3 ( *liste de tâches à donner le 17 Janvier*)\n",
    "\n",
    "et plus comaprer leurs performances en terme de précision de la classification ainsi que de temps de convergence. \n",
    "\n",
    "Pour le rapport: \n",
    "\n",
    "- à réaliser en jupyter notebook, avec le code et **la sortie**\n",
    "- à me rendre **avant 7 Février**"
   ]
  },
  {
   "cell_type": "markdown",
   "metadata": {},
   "source": [
    "###  <span style=\"color:red\"> 17 Jan </style>\n",
    "\n",
    "### Courbes d'entrainement de l'algorithme stochqstique \n",
    "\n",
    "Voici les 2 courbes d'entraînement à partir du mini-batch descente de gradient avec de differents pas\n",
    "\n",
    "#### HP: n_epoch = 5, batch_size = 10, alpha = 0.5, *c = 10*"
   ]
  },
  {
   "cell_type": "markdown",
   "metadata": {},
   "source": [
    "<img src=\"c10.png\" width=800 height=800/>"
   ]
  },
  {
   "cell_type": "markdown",
   "metadata": {},
   "source": [
    "#### HP: n_epoch = 5, batch_size = 10, alpha = 0.5, *c = 1* "
   ]
  },
  {
   "cell_type": "markdown",
   "metadata": {},
   "source": [
    "<img src=\"c1.png\" width=800 height=800/>"
   ]
  },
  {
   "cell_type": "markdown",
   "metadata": {},
   "source": [
    "On peut remarquer que les courbes bruyantes par rapport aux algos déterministes. En plus, les courbes changent de d'une réalisation de l'algo à l'autre.\n",
    "\n",
    "c'est normal le résultat de l'epoch $l$ est pire que celui de l'epoch $l-1$, \n",
    "Mais, quand l'algo n'a pas convergé, même avec le stochasticité, le résultat s'améliore consécutivement à l'échelle d'epoch (plus évident pour le coût d'entraînement que d'autres metrics). \n",
    "\n",
    "**Pour la réglage:**\n",
    "\n",
    "Il faut déjà tracer les courbes d'entraînement pour chaque combinaison des hyperparamètres, afin de ne pas être perturbé par la stochasticité. Par exemple, le **c = 1** donne la meilleure performance que **c = 10**, basée sur les courbes ci-dessous. Bien sûr on peut augmenter le nombre d'épochs jusqu'auquel l'algo soit convergé.   \n",
    "\n",
    "Mais, ce n'est pas possible quand le jeu de données est grand et le nombre de HP est important. (On va revenir sur ce point plus tard.)\n",
    "\n",
    "*Pour ce jeu de données simulé, (si c'est trop compliqué de déterminer quelle est la meilleur) dès que ton taux d'erreur atteint env 0.12, c'est bon pour moi !*\n",
    "\n",
    "**Pour la question:**\n",
    "- faites varier une fois un hyperparamètre\n",
    "- dans la question, la performance est évalué de côte de $\\|\\hat{\\theta}^{(k)} - \\theta_{lr}\\|_2^2$ non pas de la précision $^*$, donc vous devrez calculer $\\|\\hat{\\theta}^{(k)} - \\theta_{lr}\\|$ pour chaque combinaison.\n",
    "\n",
    "$^*$: car c'est possible de voir un meilleur $\\|\\hat{\\theta}^{(k)} - \\theta_{lr}\\|_2^2$ et le pire err en même temps "
   ]
  },
  {
   "cell_type": "markdown",
   "metadata": {},
   "source": [
    "## 2 Comparaison des algorithmes sur le jeu de données MNIST"
   ]
  },
  {
   "cell_type": "code",
   "execution_count": 185,
   "metadata": {},
   "outputs": [],
   "source": [
    "import tensorflow as tf\n",
    "from sklearn import model_selection\n",
    "import time\n",
    "import numpy as np\n",
    "from numpy.random import rand\n",
    "import pandas as pd\n",
    "import matplotlib.pyplot as plt\n",
    "import os "
   ]
  },
  {
   "cell_type": "code",
   "execution_count": 186,
   "metadata": {},
   "outputs": [],
   "source": [
    "# Importation des données de la base MNIST\n",
    "from keras.datasets import mnist\n",
    "\n",
    "# Importation de librairies Python\n",
    "import numpy as np\n",
    "from keras.utils import np_utils\n",
    "\n",
    "# Le réseau est de type feed-forward et complètement connecté\n",
    "# On importe donc les modèles correspondants\n",
    "from keras.models import Sequential\n",
    "from keras.layers import Dense\n",
    "\n",
    "# Chargement des données MNIST sous la forme de deux ensembles (apprentissage et test)\n",
    "(X_train, Y_train), (X_test, Y_test) = mnist.load_data()\n",
    "Y_test_classes = Y_test"
   ]
  },
  {
   "cell_type": "code",
   "execution_count": 187,
   "metadata": {},
   "outputs": [
    {
     "name": "stdout",
     "output_type": "stream",
     "text": [
      "(60000, 784)\n",
      "(10000, 784)\n"
     ]
    }
   ],
   "source": [
    "# Importation de librairies Python\n",
    "import numpy as np\n",
    "from keras.utils import np_utils\n",
    "\n",
    "# Le réseau est de type feed-forward et complètement connecté\n",
    "# On importe donc les modèles correspondants\n",
    "from keras.models import Sequential\n",
    "from keras.layers import Dense\n",
    "\n",
    "# Convertion des données en vecteurs de taille 784\n",
    "nb_pixels =  X_train.shape[1] * X_train.shape[2]\n",
    "\n",
    "X_train = X_train.reshape(X_train.shape[0], nb_pixels).astype('float32')\n",
    "X_test = X_test.reshape(X_test.shape[0], nb_pixels).astype('float32')\n",
    "\n",
    "# Affichage des tailles des ensembles d'apprentissage et de test\n",
    "print(X_train.shape)\n",
    "print(X_test.shape)\n",
    "\n",
    "# Normalisation des données (255 est le maximum des niveaux de gris)\n",
    "X_train = X_train / 255\n",
    "X_test = X_test / 255"
   ]
  },
  {
   "cell_type": "code",
   "execution_count": 188,
   "metadata": {},
   "outputs": [
    {
     "name": "stdout",
     "output_type": "stream",
     "text": [
      "(12665, 784)\n",
      "(2115, 784)\n"
     ]
    }
   ],
   "source": [
    "# Restriction à la classe 0 versus 1\n",
    "x_train = X_train[Y_train < 2,:]\n",
    "y_train = Y_train[Y_train < 2]\n",
    "\n",
    "x_test = X_test[Y_test < 2,:]\n",
    "y_test = Y_test[Y_test < 2]\n",
    "\n",
    "print(x_train.shape)\n",
    "print(x_test.shape)"
   ]
  },
  {
   "cell_type": "code",
   "execution_count": 189,
   "metadata": {},
   "outputs": [
    {
     "data": {
      "image/png": "[encoded data removed]",
      "text/plain": [
       "<Figure size 1440x216 with 5 Axes>"
      ]
     },
     "metadata": {
      "image/png": {
       "height": 209,
       "width": 1120
      },
      "needs_background": "light"
     },
     "output_type": "display_data"
    }
   ],
   "source": [
    "plt.rcParams[\"figure.figsize\"] = (20,3)\n",
    "for i in range(5):\n",
    "    ax1 = plt.subplot(1, 5, i+1)\n",
    "    plt.imshow(x_train[i,:].reshape(28,28))\n",
    "    plt.title(y_train[i])"
   ]
  },
  {
   "cell_type": "code",
   "execution_count": 155,
   "metadata": {},
   "outputs": [
    {
     "name": "stdout",
     "output_type": "stream",
     "text": [
      "Model: \"sequential_2\"\n",
      "_________________________________________________________________\n",
      " Layer (type)                Output Shape              Param #   \n",
      "=================================================================\n",
      " dense_2 (Dense)             (None, 1)                 785       \n",
      "                                                                 \n",
      "=================================================================\n",
      "Total params: 785\n",
      "Trainable params: 785\n",
      "Non-trainable params: 0\n",
      "_________________________________________________________________\n"
     ]
    }
   ],
   "source": [
    "# Définition du réseau de neurones\n",
    "model = tf.keras.Sequential()\n",
    "model.add(tf.keras.layers.Dense(units=1, input_shape=(784,), activation='sigmoid'))\n",
    "\n",
    "opt = tf.keras.optimizers.Adam(learning_rate=0.01)\n",
    "model.compile(optimizer=opt, loss='binary_crossentropy', metrics=['accuracy'])\n",
    "model.summary()"
   ]
  },
  {
   "cell_type": "code",
   "execution_count": 156,
   "metadata": {},
   "outputs": [
    {
     "name": "stdout",
     "output_type": "stream",
     "text": [
      "Epoch 1/10\n",
      "745/745 [==============================] - 1s 1ms/step - loss: 0.0126 - accuracy: 0.9965 - val_loss: 0.0026 - val_accuracy: 0.9995\n",
      "Epoch 2/10\n",
      "745/745 [==============================] - 1s 972us/step - loss: 0.0038 - accuracy: 0.9989 - val_loss: 0.0024 - val_accuracy: 0.9995\n",
      "Epoch 3/10\n",
      "745/745 [==============================] - 1s 930us/step - loss: 0.0032 - accuracy: 0.9991 - val_loss: 0.0023 - val_accuracy: 0.9991\n",
      "Epoch 4/10\n",
      "745/745 [==============================] - 1s 1ms/step - loss: 0.0020 - accuracy: 0.9992 - val_loss: 7.2622e-04 - val_accuracy: 0.9995\n",
      "Epoch 5/10\n",
      "745/745 [==============================] - 1s 942us/step - loss: 0.0018 - accuracy: 0.9996 - val_loss: 0.0018 - val_accuracy: 0.9995\n",
      "Epoch 6/10\n",
      "745/745 [==============================] - 1s 945us/step - loss: 0.0021 - accuracy: 0.9993 - val_loss: 0.0037 - val_accuracy: 0.9995\n",
      "Epoch 7/10\n",
      "745/745 [==============================] - 1s 1ms/step - loss: 0.0015 - accuracy: 0.9996 - val_loss: 0.0030 - val_accuracy: 0.9995\n",
      "Epoch 8/10\n",
      "745/745 [==============================] - 1s 959us/step - loss: 2.9973e-04 - accuracy: 1.0000 - val_loss: 0.0029 - val_accuracy: 0.9995\n",
      "Epoch 9/10\n",
      "745/745 [==============================] - 1s 1ms/step - loss: 4.5811e-04 - accuracy: 0.9999 - val_loss: 0.0011 - val_accuracy: 0.9995\n",
      "Epoch 10/10\n",
      "745/745 [==============================] - 1s 958us/step - loss: 0.0012 - accuracy: 0.9994 - val_loss: 0.0021 - val_accuracy: 0.9995\n"
     ]
    },
    {
     "data": {
      "text/plain": [
       "<Figure size 576x432 with 0 Axes>"
      ]
     },
     "metadata": {},
     "output_type": "display_data"
    },
    {
     "data": {
      "image/png": "[encoded data removed]",
      "text/plain": [
       "<Figure size 432x360 with 1 Axes>"
      ]
     },
     "metadata": {
      "image/png": {
       "height": 332,
       "width": 372
      },
      "needs_background": "light"
     },
     "output_type": "display_data"
    }
   ],
   "source": [
    "# Entrainement\n",
    "plt.rcParams[\"figure.figsize\"] = (6,5)\n",
    "history = model.fit(x=x_train, y=y_train, batch_size= 17, verbose=1, epochs=10, validation_data=(x_test,y_test))\n",
    "plot_loss_accuracy(history)"
   ]
  },
  {
   "cell_type": "markdown",
   "metadata": {},
   "source": [
    "### Travail à réaliser pour MNIST\n",
    "\n",
    "Implémentez le mini-batch descente de gradient, le mini-batch ADAM et l'algorithme stochastique de Newton sur l'ensemble d'appretissage et réglez les hyperparamètres sur l'ensemble de validation: \n"
   ]
  },
  {
   "cell_type": "code",
   "execution_count": 191,
   "metadata": {},
   "outputs": [],
   "source": [
    "# train-validation split\n",
    "x_train, x_val, y_train, y_val, = model_selection.train_test_split(x_train,y_train, test_size=.1)"
   ]
  },
  {
   "cell_type": "markdown",
   "metadata": {},
   "source": [
    "**Réglage des hyperparamètres**\n",
    "\n",
    "En pratique, on ne régle pas $n\\_epoch$, au lieu, on arrête l'algo quand il arrive le point de **Early stopping**: \n",
    "https://en.wikipedia.org/wiki/Early_stopping \n",
    "\n",
    "<img src=\"early_stopping_algo_deterministe.png\" width=500 height=500/>\n",
    "(img src: https://medium.com/@rahuljain13101999/why-early-stopping-works-as-regularization-b9f0a6c2772)\n",
    "\n",
    "Donc, dès que le loss_val commence à augmenter, on arrête l'algo et le dernier loss_val représente la performance du modèle aux hyperparamètres utilisés.   \n",
    "\n",
    "Mais, la courbe d'entraînement de l'algo sto est bruyante, ctd, le loss_val augmente et descend d'une façon alternative. Comment on peut déterminer le point de **Early stopping**? \n",
    "\n",
    "<img src=\"MNIST_ADAM.png\" width=1000 height=1000/>"
   ]
  },
  {
   "cell_type": "markdown",
   "metadata": {},
   "source": [
    "Après avoir arrêté l'algo, la moyenne des $n$ derniers loss_val se sert au critère de la réglage des hyperparamètres. \n",
    "\n",
    "Une situation: l'algo n'a toujours pas été arrêté par notre règle d'arrêt -> l'arrêt forcé à $nmax\\_epoch$. \n",
    "\n",
    "Il y a toujours des situations imprévues ou extrêmes, ça veut dire que la règle d'arrêt n'est pas parfaite. Mais, on ne peut que faire confiance en lui, car sinon, le travail ne se termine jamais. \n",
    "\n",
    "***Revenons à notre travail:***\n",
    "\n",
    "Malheureusement, sur ce jeu de données, seulement avec l'ADAM, c'est possible d'observer le pointe de Early stopping. Car il converge plus vite, par contre la descente de gradient, il prend plus d'epochs pour la eventuelle convergence et l'algo newton, déjà, il prend plus de temps pour finir un epoch. \n",
    "\n",
    "Mais dans l'esprit de pratiquer: \n",
    "\n",
    "Appliquez une règle de Early stopping pour tous 3 algos, avec l'arrêt forcé à $nmax\\_epoch = 70$, et réglez les hyperparamètres.\n",
    "\n",
    "NB: pour l'algo newton, vous pouvez l'arrêter plus tôt si vous n'avez pas de temps pour l'attendre finir ! \n",
    "\n",
    "**Evaluation**\n",
    "\n",
    "Avec les meilleurs hyperparamètres, \n",
    "\n",
    "1. tracez les indicateurs de performance, plus exactement \n",
    "\n",
    " - relevez le temps d'exécution de chaque itération\n",
    " \n",
    " A la fin de chaque itération $k$, avec le dernier $\\hat{\\theta}^{(k)}$\n",
    " - predites les classes des tous echantillons dans l'ensemble d'appretissage et calculez le taux d'erreur train\n",
    " - predites les classes des tous echantillons dans l'ensemble **validation** et culculez le taux d'erreur **val**\n",
    " - calculez la loss $\\mathcal{L}_n$ i.e. l'opposé de log-vraisemblance normalisé train (utiliser tous les echantillons dans l'ensemble d'appretissage)\n",
    " - calculez la loss $\\mathcal{L}_n$ i.e. l'opposé de log-vraisemblance normalisé *val* (utiliser tous les echantillons dans l'ensemble *val*)\n",
    "\n",
    " tracez ainsi: \n",
    " - l'évolution du taux d'erreur train / val en fonction des itérations\n",
    " - l'évolution du taux d'erreur train / val en fonction du temps $^*$  \n",
    " - l'évolution du train / val loss en fonction des itérations \n",
    " - l'évolution du train / val loss en fonction du temps\n",
    " \n",
    "2. testez les performances de la classification pour les 3 algorithmes sur l'ensemble de **test**. L'ensemble de **test** n'est utilisé qu'une seule fois pour l'évaluation ultime ! \n",
    " \n",
    "Comparez et commentez les performances de 3 algorithmes "
   ]
  },
  {
   "cell_type": "markdown",
   "metadata": {},
   "source": [
    "## 3 Comparaison des algorithmes sur le jeu de données d'Airbus\n",
    "\n",
    "Lien Données Airbus: https://filesender.renater.fr/?s=download&token=08b573a6-3452-4ce2-bbe9-7168b4bd5f09"
   ]
  },
  {
   "cell_type": "code",
   "execution_count": 2,
   "metadata": {},
   "outputs": [],
   "source": [
    "from sklearn import model_selection\n",
    "import pandas as pd\n",
    "import numpy as np\n",
    "import os \n",
    "from pylab import *"
   ]
  },
  {
   "cell_type": "code",
   "execution_count": 3,
   "metadata": {},
   "outputs": [
    {
     "data": {
      "image/png": "[encoded data removed]",
      "text/plain": [
       "<PIL.Image.Image image mode=L size=128x128 at 0x1458A8280>"
      ]
     },
     "execution_count": 3,
     "metadata": {},
     "output_type": "execute_result"
    }
   ],
   "source": [
    "# Visulisation des données\n",
    "import keras.preprocessing.image as kpi\n",
    "\n",
    "# Chemin d'accès aux données\n",
    "data_dir = '/Users/yiye/Dropbox/Projet Algorithmes Stochastiques et Régression logistique/data_projet_M2_MAS_MSS_CMI_ISI'\n",
    "\n",
    "# Target\n",
    "img = kpi.load_img(data_dir+'/train/target/C81820872.jpg', color_mode = \"grayscale\")\n",
    "img"
   ]
  },
  {
   "cell_type": "code",
   "execution_count": 4,
   "metadata": {},
   "outputs": [
    {
     "data": {
      "image/png": "[encoded data removed]",
      "text/plain": [
       "<PIL.Image.Image image mode=L size=128x128 at 0x1061DF280>"
      ]
     },
     "execution_count": 4,
     "metadata": {},
     "output_type": "execute_result"
    }
   ],
   "source": [
    "# Other\n",
    "img = kpi.load_img(data_dir+'/train/other/S25105462.jpg', color_mode = \"grayscale\")\n",
    "img"
   ]
  },
  {
   "cell_type": "code",
   "execution_count": 5,
   "metadata": {},
   "outputs": [
    {
     "data": {
      "text/plain": [
       "(128, 128, 1)"
      ]
     },
     "execution_count": 5,
     "metadata": {},
     "output_type": "execute_result"
    }
   ],
   "source": [
    "# Taille des données\n",
    "x = kpi.img_to_array(img)  \n",
    "x.shape"
   ]
  },
  {
   "cell_type": "markdown",
   "metadata": {},
   "source": [
    "***Pour ce jeu de données massive, au lieu de importer tous les images et plus les utiliser, on importe une image à la fois pour faire le calcul qui la demande.***"
   ]
  },
  {
   "cell_type": "code",
   "execution_count": 6,
   "metadata": {},
   "outputs": [
    {
     "name": "stdout",
     "output_type": "stream",
     "text": [
      "Mini-batch numéro : 100-200-300-400-500-600-700-800-900-1000-1100-1200-1300-1400-1500-1600-1700-1800-1900-2000-2100-2200-2300-2400-2500-2600-2700-2800-2900-3000- Fin des itérations\n"
     ]
    }
   ],
   "source": [
    "# Cacul récursif de l'image moyenne dans une classe\n",
    "img_size = 128\n",
    "\n",
    "# Choix du canal de couleur RGB (0, 1 our 2)\n",
    "RGB = 1\n",
    "\n",
    "# Choix du répertoire contenant les données\n",
    "directory = data_dir+'/train/target/'\n",
    "\n",
    "# Choix de la taille des mini-batchs\n",
    "batch_size = 10\n",
    "\n",
    "# Initialisation\n",
    "d = img_size**2\n",
    "Xbar = np.zeros(d)\n",
    "\n",
    "# Hyper-paramètres\n",
    "c = 1\n",
    "alpha = 0.5\n",
    "\n",
    "batch_number = 0\n",
    "batch_view = 100\n",
    "\n",
    "if 'Xbatch' in locals() :\n",
    "    del Xbatch\n",
    "\n",
    "# Itérations\n",
    "print('Mini-batch numéro : ', end='')\n",
    "for f in os.listdir(directory):\n",
    "    # Normalisation des données\n",
    "    xt = kpi.img_to_array(kpi.load_img(directory+f))/255\n",
    "    \n",
    "    if 'Xbatch' in locals() :\n",
    "        Xbatch = np.r_[Xbatch,xt[:,:,RGB].reshape(1,d)] \n",
    "    else:\n",
    "        Xbatch = xt[:,:,RGB].reshape(1,d)\n",
    "    \n",
    "    if Xbatch.shape[0] == batch_size:\n",
    "        batch_number +=1\n",
    "        # Affichage du numéro de batch\n",
    "        if batch_number % batch_view == 0:\n",
    "            print('{}-'.format(batch_number), end='')\n",
    "            \n",
    "        # Descente de gradient stochastique\n",
    "        gamma = c/(batch_number**alpha)\n",
    "        Xbar = Xbar + gamma*(np.mean(Xbatch,0)-Xbar)\n",
    "        del Xbatch\n",
    "\n",
    "print(' Fin des itérations', end='\\n')"
   ]
  },
  {
   "cell_type": "code",
   "execution_count": 7,
   "metadata": {},
   "outputs": [
    {
     "data": {
      "image/png": "[encoded data removed]",
      "text/plain": [
       "<Figure size 432x288 with 1 Axes>"
      ]
     },
     "metadata": {
      "needs_background": "light"
     },
     "output_type": "display_data"
    }
   ],
   "source": [
    "# Vérification\n",
    "imgbar = Xbar.reshape(img_size,img_size)\n",
    "plt.imshow(imgbar, interpolation='nearest')\n",
    "plt.show()"
   ]
  },
  {
   "cell_type": "code",
   "execution_count": 8,
   "metadata": {},
   "outputs": [
    {
     "name": "stdout",
     "output_type": "stream",
     "text": [
      "63218\n",
      "5000\n",
      "0.9302027357107963\n",
      "   classe      nom_fichier\n",
      "0     1.0  C4300728455.jpg\n",
      "1     1.0  C4560858059.jpg\n",
      "2     1.0  C4181457282.jpg\n",
      "3     1.0  C1740751010.jpg\n",
      "4     1.0  C2617156084.jpg\n",
      "   classe      nom_fichier\n",
      "0     1.0  C1111642322.jpg\n",
      "1     1.0  C1151737717.jpg\n",
      "2     1.0  C1110855152.jpg\n",
      "3     1.0  C1151741695.jpg\n",
      "4     1.0  C1074594371.jpg\n"
     ]
    }
   ],
   "source": [
    "# Création pointeurs vers ensemble d'apprentissage et ensemble de test\n",
    "list_train_target = os.listdir(data_dir+'/train/target/')\n",
    "list_train_other = os.listdir(data_dir+'/train/other/')\n",
    "list_train = list_train_target + list_train_other\n",
    "\n",
    "list_test_target = os.listdir(data_dir+'/test/target/')\n",
    "list_test_other = os.listdir(data_dir+'/test/other/')\n",
    "list_test = list_test_target + list_test_other\n",
    "\n",
    "print(len(list_train))\n",
    "print(len(list_test))\n",
    "\n",
    "print(len(list_train_target)/len(list_train_other))\n",
    "\n",
    "y_train = np.r_[np.ones(len(list_train_target)),np.zeros(len(list_train_other))]\n",
    "y_test = np.r_[np.ones(len(list_test_target)),np.zeros(len(list_test_other))]\n",
    "\n",
    "data_train = pd.DataFrame(data={'classe' : y_train, 'nom_fichier' : list_train})\n",
    "print(data_train.head())\n",
    "\n",
    "data_test = pd.DataFrame(data={'classe' : y_test, 'nom_fichier' : list_test})\n",
    "print(data_test.head())"
   ]
  },
  {
   "cell_type": "code",
   "execution_count": 9,
   "metadata": {},
   "outputs": [
    {
     "name": "stdout",
     "output_type": "stream",
     "text": [
      "       classe      nom_fichier\n",
      "30213     1.0  C2349694403.jpg\n",
      "9744      1.0  C4179581018.jpg\n",
      "33129     0.0  S5250109477.jpg\n",
      "37651     0.0  S4694437128.jpg\n",
      "32179     0.0  S1840622124.jpg\n"
     ]
    }
   ],
   "source": [
    "from sklearn.utils import shuffle\n",
    "data_train = shuffle(data_train)\n",
    "print(data_train.head())"
   ]
  },
  {
   "cell_type": "markdown",
   "metadata": {},
   "source": [
    "### Travail à realiser pour Airbus"
   ]
  },
  {
   "cell_type": "code",
   "execution_count": 10,
   "metadata": {},
   "outputs": [
    {
     "name": "stdout",
     "output_type": "stream",
     "text": [
      "56896\n",
      "6322\n"
     ]
    }
   ],
   "source": [
    "data_train, data_val = model_selection.train_test_split(data_train, test_size=.1)\n",
    "print(len(data_train))\n",
    "print(len(data_val))"
   ]
  },
  {
   "cell_type": "markdown",
   "metadata": {},
   "source": [
    "Implémentez le mini-batch descente de gradient, le mini-batch ADAM sur l'ensemble d'apprentissage et réglez les hyperparamètres sur l'ensemble de validation: \n",
    "\n",
    "*l'algorithme stochastique de Newton prends trop longtemps sur ce jeu de données\n",
    "\n",
    "**Réglage des hyperparamètres ($nmax\\_epoch = 20$)**\n",
    "\n",
    "C'est dur d'attendre l'apparition de Early stopping. \n",
    "\n",
    "*Attention, pour la descente de gradient: un énorme $d$ -> le gradient facile à exploser pendant les premiers itérations.*\n",
    "\n",
    " D'un côté, le coût à $\\hat{\\theta}^{(0)}$ aléatoire est normalement grand -> le magnitude du gradient calculé à $\\hat{\\theta}^{(0)}$ est grand (pensez à $x^2$).\n",
    "\n",
    " D'autre, pour l'algo stochastique, il lui faut quelque itérations pour trouver la direction descendante du loss_train -> pendant les première iterations, $\\hat{\\theta}^{(k)}$ sont tous mis à jour dans la direction ascendante.\n",
    "\n",
    " Si le pas est de plus grand, avant que l'algo puisse trouver la direction descendante, le gradient a déjà explosé \n",
    "\n",
    "*Résolution:* baiser le pas. \n",
    "\n",
    "A observer: par contre pour l'ADAM, toujours facile à régler, e.g. $\\gamma = 0.01$. \n",
    "\n",
    "**Evaluation**\n",
    "\n",
    "Avec les meilleurs hyperparamètres,\n",
    "\n",
    "1. tracez les indicateurs de performance à l'échelle de epochs, plus exactement\n",
    "\n",
    " - relevez le temps d'exécution de chaque **epoch**\n",
    " \n",
    " A la fin de chaque **epoch** $k$, avec le dernier $\\hat{\\theta}^{(k)}$\n",
    " - prédites les classes des tous échantillons dans l'ensemble d'apprentissage et calculez le taux d'erreur train\n",
    " - prédites les classes des tous échantillons dans l'ensemble val et calculez le taux d'erreur val\n",
    " - calculez la loss $\\mathcal{L}_n$ i.e. l'opposé de log-vraisemblance normalisé train (utiliser tous les échantillons dans l'ensemble d'apprentissage)\n",
    " - calculez la loss $\\mathcal{L}_n$ i.e. l'opposé de log-vraisemblance normalisé val (utiliser tous les échantillons dans l'ensemble val)\n",
    "\n",
    " tracez ainsi:\n",
    " - l'évolution du taux d'erreur train / val en fonction des **epochs**\n",
    " - l'évolution du taux d'erreur train / val en fonction du temps\n",
    " - l'évolution du train / val loss en fonction des **epochs**\n",
    " - l'évolution du train / val loss en fonction du temps\n",
    " \n",
    "2. testez les performances de la classification pour les 2 algorithmes sur l'ensemble de test\n",
    " \n",
    "Comparez et commentez les performances des 2 algorithmes. "
   ]
  },
  {
   "cell_type": "markdown",
   "metadata": {},
   "source": [
    "Dernièrement, voici le code Keras qui implement l'algo ADAM dans le cadre du reseau de neurone. Est-ce que ton code d'ADAM a la précision similaire ?"
   ]
  },
  {
   "cell_type": "code",
   "execution_count": 11,
   "metadata": {},
   "outputs": [
    {
     "name": "stdout",
     "output_type": "stream",
     "text": [
      "Found 56897 images belonging to 2 classes.\n",
      "Found 6321 images belonging to 2 classes.\n"
     ]
    }
   ],
   "source": [
    "###################\n",
    "# Deep learning\n",
    "###################\n",
    "epochs = \n",
    "batch_size= \n",
    "\n",
    "img_width = 128\n",
    "img_height = 128\n",
    "\n",
    "train_datagen = kpi.ImageDataGenerator(rescale = 1./255, validation_split=0.1)\n",
    "\n",
    "# générateur qui lira les images trouvées dans les sous-dossiers de 'data/train'\n",
    "train_generator = train_datagen.flow_from_directory(\n",
    "        data_dir+\"/train/\",  # répertoire target \n",
    "        target_size=(img_width, img_height),  \n",
    "        batch_size=batch_size,\n",
    "        class_mode='binary', \n",
    "        color_mode=\"grayscale\", \n",
    "        subset='training')  \n",
    "\n",
    "# générateur pour les donnees de validation \n",
    "validation_generator = train_datagen.flow_from_directory(\n",
    "        data_dir+\"/train/\",  \n",
    "        target_size=(img_width, img_height),  \n",
    "        batch_size=batch_size,\n",
    "        class_mode='binary', \n",
    "        color_mode=\"grayscale\", \n",
    "        subset='validation')  "
   ]
  },
  {
   "cell_type": "code",
   "execution_count": 12,
   "metadata": {},
   "outputs": [
    {
     "name": "stdout",
     "output_type": "stream",
     "text": [
      "Model: \"sequential\"\n",
      "_________________________________________________________________\n",
      " Layer (type)                Output Shape              Param #   \n",
      "=================================================================\n",
      " flatten (Flatten)           (None, 16384)             0         \n",
      "                                                                 \n",
      " dense (Dense)               (None, 1)                 16385     \n",
      "                                                                 \n",
      "=================================================================\n",
      "Total params: 16,385\n",
      "Trainable params: 16,385\n",
      "Non-trainable params: 0\n",
      "_________________________________________________________________\n"
     ]
    },
    {
     "name": "stderr",
     "output_type": "stream",
     "text": [
      "2022-01-16 23:53:03.119233: I tensorflow/core/platform/cpu_feature_guard.cc:151] This TensorFlow binary is optimized with oneAPI Deep Neural Network Library (oneDNN) to use the following CPU instructions in performance-critical operations:  AVX2 FMA\n",
      "To enable them in other operations, rebuild TensorFlow with the appropriate compiler flags.\n"
     ]
    }
   ],
   "source": [
    "######################\n",
    "# Specify the model\n",
    "######################\n",
    "import tensorflow as tf\n",
    "\n",
    "model_img = tf.keras.Sequential()\n",
    "model_img.add(tf.keras.Input(shape=(img_width, img_height, 1)))\n",
    "model_img.add(tf.keras.layers.Flatten())\n",
    "model_img.add(tf.keras.layers.Dense(1, activation='sigmoid'))\n",
    "\n",
    "opt = tf.keras.optimizers.Adam(learning_rate=0.01)\n",
    "model_img.compile(optimizer=opt, loss='binary_crossentropy', metrics=['accuracy'])\n",
    "model_img.summary()"
   ]
  },
  {
   "cell_type": "code",
   "execution_count": null,
   "metadata": {},
   "outputs": [],
   "source": [
    "history = model_img.fit(train_generator, batch_size = batch_size, epochs=epochs, validation_data=validation_generator)"
   ]
  }
 ],
 "metadata": {
  "hide_input": false,
  "kernelspec": {
   "display_name": "Python 3 (ipykernel)",
   "language": "python",
   "name": "python3"
  },
  "language_info": {
   "codemirror_mode": {
    "name": "ipython",
    "version": 3
   },
   "file_extension": ".py",
   "mimetype": "text/x-python",
   "name": "python",
   "nbconvert_exporter": "python",
   "pygments_lexer": "ipython3",
   "version": "3.9.7"
  },
  "toc": {
   "nav_menu": {},
   "number_sections": true,
   "sideBar": true,
   "skip_h1_title": false,
   "toc_cell": false,
   "toc_position": {},
   "toc_section_display": "block",
   "toc_window_display": false
  }
 },
 "nbformat": 4,
 "nbformat_minor": 1
}
